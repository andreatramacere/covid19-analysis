{
 "cells": [
  {
   "cell_type": "code",
   "execution_count": 1,
   "metadata": {},
   "outputs": [
    {
     "data": {
      "text/html": [
       "<style>.container { width:95% !important; }</style>"
      ],
      "text/plain": [
       "<IPython.core.display.HTML object>"
      ]
     },
     "metadata": {},
     "output_type": "display_data"
    }
   ],
   "source": [
    "from IPython.core.display import display, HTML\n",
    "display(HTML(\"<style>.container { width:95% !important; }</style>\"))\n",
    "import warnings\n",
    "warnings.filterwarnings('ignore')"
   ]
  },
  {
   "cell_type": "code",
   "execution_count": 2,
   "metadata": {},
   "outputs": [],
   "source": [
    "from astropy.table import Table\n",
    "from astropy.time import Time\n",
    "import numpy as np\n",
    "import matplotlib.pyplot as plt\n",
    "import pandas as pd\n",
    "plt.rcParams['figure.figsize'] = [15, 15]\n",
    "size=18\n",
    "params = {'legend.fontsize': size,\n",
    "          'figure.figsize': (20,8),\n",
    "          'axes.labelsize': size,\n",
    "          'axes.titlesize': size,\n",
    "          'xtick.labelsize': size*0.75,\n",
    "          'ytick.labelsize': size*0.75,\n",
    "          'axes.titlepad': 25}\n",
    "plt.rcParams.update(params)"
   ]
  },
  {
   "cell_type": "code",
   "execution_count": 3,
   "metadata": {},
   "outputs": [],
   "source": [
    "from jetset.model_parameters import ModelParameterArray, ModelParameter\n",
    "from jetset.analytical_model import AnalyticalParameter\n",
    "from jetset.base_model import Model\n",
    "from jetset.model_manager import FitModel\n",
    "from jetset.minimizer import fit_SED"
   ]
  },
  {
   "cell_type": "code",
   "execution_count": 4,
   "metadata": {},
   "outputs": [],
   "source": [
    "class GrowthModel(Model):\n",
    "    \"\"\"\n",
    "    Class to handle function for growth model\n",
    "    \"\"\"\n",
    "    \n",
    "    def __init__(self,nu_size=100,**keywords):\n",
    "        \"\"\"\n",
    "        \"\"\"\n",
    "     \n",
    "        super(GrowthModel,self).__init__(  **keywords)\n",
    "        self.name='GrowthModel'\n",
    "        self.parameters = ModelParameterArray()      \n",
    "        self.eta=1\n",
    "        self.parameters.add_par(AnalyticalParameter(self,name='eta',par_type='',val=1,val_min=0,val_max=10000,units=''))        \n",
    "        self.R0=1\n",
    "        self.parameters.add_par(AnalyticalParameter(self,name='R0',par_type='',val=3,val_min=0.,val_max=10.,units=''))       \n",
    "        self.tau=1\n",
    "        self.parameters.add_par(AnalyticalParameter(self,name='tau',par_type='',val=1,val_min=0.,val_max=10.,units=''))\n",
    "        self.t_0=1\n",
    "        self.parameters.add_par(AnalyticalParameter(self,name='t_0',par_type='',val=0,val_min=-10.,val_max=100.,units=''))\n",
    "    \n",
    "    def set(self,**keywords):\n",
    "        super(GrowthMode,self).set(**keywords )\n",
    "\n",
    "        \"\"\"\n",
    "        sets a parameter value checking for physical boundaries \n",
    "        \"\"\"\n",
    "        if 'val' in keywords.keys():\n",
    "            self.assign_val(self.name,keywords['val']) \n",
    "\n",
    "    def assign_val(self,name,val):\n",
    "        setattr(self.polymodel,name,val)\n",
    "    \n",
    "    #def lin_func(self,nu):        \n",
    "    #    return -np.log10(self.eta) +(np.log10(self.R0)/self.tau)*(nu-self.eta)\n",
    "    \n",
    "    def lin_func(self,nu):\n",
    "        return (1.0/self.eta)*np.power(self.R0,((nu-self.t_0)/self.tau))\n",
    "    "
   ]
  },
  {
   "cell_type": "code",
   "execution_count": 5,
   "metadata": {},
   "outputs": [],
   "source": [
    "class Data(object):\n",
    "    \n",
    "    def __init__(self,data,time):\n",
    "        self.data=data\n",
    "        self.time=time.date"
   ]
  },
  {
   "cell_type": "code",
   "execution_count": 6,
   "metadata": {},
   "outputs": [],
   "source": [
    "def get_data(name='Confirmed'):\n",
    "    \"\"\"\n",
    "    name= Confirmed, Deaths, Recovered\n",
    "    \"\"\"\n",
    "    table=Table.read('COVID-19/csse_covid_19_data/csse_covid_19_time_series/time_series_19-covid-%s.csv'%name)\n",
    "    ts=table[table['Country/Region']=='Italy']\n",
    "    df=ts.to_pandas()\n",
    "    y=df.values\n",
    "    y=y.flatten()[4:].astype(np.int)\n",
    "    t=df.columns[4:]\n",
    "    msk=y>-1\n",
    "    \n",
    "    time=np.arange(1,len(t)+1)\n",
    "    msk=time>20\n",
    "    t=t[msk]\n",
    "    data_table=Table([time[msk], y[msk], np.sqrt(y[msk]), np.zeros(len(y[msk]),dtype=np.bool )],names=['nu_data','nuFnu_data','dnuFnu_data','UL'])\n",
    "    data=Data(data_table,pd.to_datetime(t,format='%m/%d/%y'))\n",
    "    return data"
   ]
  },
  {
   "cell_type": "code",
   "execution_count": 7,
   "metadata": {},
   "outputs": [],
   "source": [
    "def plot_model(mcmc,model,data, nu_1, nu_2, size=10, labels=None,label=''):\n",
    "    \n",
    "    nu=np.linspace(nu_1,nu_2,100)\n",
    "\n",
    "    mcmc.reset_to_best_fit()\n",
    "    p=np.log10(model.GrowthModel.parameters.R0.best_fit_val)/model.GrowthModel.parameters.tau.val\n",
    "    y = np.zeros((size,nu.size))\n",
    "\n",
    "    for ID,ID_rand in enumerate(np.random.randint(len(mcmc.samples), size=size)):\n",
    "        for ID_par,pi in  enumerate(mcmc.par_array):\n",
    "            pi.set(val = mcmc.get_par(ID_par)[0][ID_rand])\n",
    "  \n",
    "        y[ID] = model.eval(nu,get_model=True)\n",
    "    \n",
    "    #print(ID)\n",
    "    y_min=np.amin(y, axis=0)\n",
    "    y_max=np.amax(y, axis=0)\n",
    "    plt.fill_between(nu,y_max,y_min,color='gray',alpha=0.3)\n",
    "    \n",
    "    mcmc.reset_to_best_fit()\n",
    "    y_bf=bfm.fit_Model.eval(nu,get_model=True)\n",
    "    \n",
    "    plt.plot(nu,y_bf,label= label+': Predicted, log10(R0)/tau=%3.3f'%p)\n",
    "    \n",
    "    plt.errorbar(data.data['nu_data'],data.data['nuFnu_data'],yerr=data.data['dnuFnu_data'],fmt='o',label = label+': Observed')\n",
    "    \n",
    "    plt.axvline(model.nu_min_fit,alpha=0.5)\n",
    "    plt.axvline(model.nu_max_fit,alpha=0.5)\n",
    "    \n",
    "    \n",
    "    locs, labels = plt.xticks()\n",
    "    delta_t=data.time +pd.Timedelta(days=30)\n",
    "    t=np.append(data.time,delta_t)\n",
    "    delta_x=np.arange(1,31)+data.data['nu_data'][-1]\n",
    "    x=np.append(data.data['nu_data'],delta_x)\n",
    "    plt.xticks(x, t, rotation='vertical') \n",
    "    plt.xlabel('date')\n",
    "    plt.ylabel('Counts')\n",
    "    plt.semilogy()\n",
    "    plt.legend()\n",
    "    mcmc.reset_to_best_fit()\n",
    "    #plt.suptitle('data from https://github.com/CSSEGISandData/COVID-19')"
   ]
  },
  {
   "cell_type": "code",
   "execution_count": 8,
   "metadata": {},
   "outputs": [],
   "source": [
    "from jetset.minimizer import fit_SED\n",
    "from jetset.mcmc import McmcSampler\n"
   ]
  },
  {
   "cell_type": "code",
   "execution_count": 11,
   "metadata": {
    "scrolled": false
   },
   "outputs": [
    {
     "name": "stderr",
     "output_type": "stream",
     "text": [
      "  1%|          | 5/500 [00:00<00:10, 45.51it/s]"
     ]
    },
    {
     "name": "stdout",
     "output_type": "stream",
     "text": [
      "\r",
      "0.13357333298596744\n",
      " model name name bestfit val     err +     err -  start val   fit range min fit range max frozen\n",
      "----------- ---- ------------ ------------ ----- ------------ ------------- ------------- ------\n",
      "GrowthModel  eta 1.138581e+01 1.975976e+01    -- 1.000000e+00  0.000000e+00  1.000000e+04  False\n",
      "GrowthModel   R0 1.599732e+00 7.232400e-01    -- 3.000000e+00  0.000000e+00  1.000000e+01  False\n",
      "GrowthModel  tau 1.527605e+00 1.426799e+00    -- 1.000000e+00  0.000000e+00  1.000000e+01  False\n",
      "GrowthModel  t_0 2.007000e+01 5.668961e+00    -- 0.000000e+00 -1.000000e+01  1.000000e+02  False\n",
      "mcmc run starting\n"
     ]
    },
    {
     "name": "stderr",
     "output_type": "stream",
     "text": [
      "100%|██████████| 500/500 [00:08<00:00, 55.84it/s]"
     ]
    },
    {
     "name": "stdout",
     "output_type": "stream",
     "text": [
      "mcmc run done, with 1 threads took 8.99 seconds\n"
     ]
    },
    {
     "name": "stderr",
     "output_type": "stream",
     "text": [
      "\n"
     ]
    }
   ],
   "source": [
    "name='Deaths'\n",
    "data=get_data(name)\n",
    "gm_d=GrowthModel()\n",
    "gm_d.nu_min=0\n",
    "gm_d.nu_max=100\n",
    "fm_d=FitModel(analytical=gm_d,name='test')\n",
    "bfm_d,mm_d=fit_SED(fm_d,data,nu_fit_start=35,nu_fit_stop=50,minimizer='minuit',silent=True)\n",
    "print(np.log10(gm_d.parameters.R0.val)/gm_d.parameters.tau.val)\n",
    "bfm_d.fit_Model.show_best_fit_pars()\n",
    "\n",
    "mcmc_d=McmcSampler(bfm_d.fit_Model,bfm_d.data)\n",
    "mcmc_d.run_sampler(nwalkers=150,burnin=10,steps=500,bound=3,bound_rel=True,walker_start_bound=0.001,threads=1)"
   ]
  },
  {
   "cell_type": "code",
   "execution_count": 13,
   "metadata": {
    "scrolled": false
   },
   "outputs": [
    {
     "ename": "NameError",
     "evalue": "name 'bfm' is not defined",
     "output_type": "error",
     "traceback": [
      "\u001b[0;31m---------------------------------------------------------------------------\u001b[0m",
      "\u001b[0;31mNameError\u001b[0m                                 Traceback (most recent call last)",
      "\u001b[0;32m<ipython-input-13-2a4b1240b9b1>\u001b[0m in \u001b[0;36m<module>\u001b[0;34m\u001b[0m\n\u001b[1;32m      1\u001b[0m \u001b[0mget_ipython\u001b[0m\u001b[0;34m(\u001b[0m\u001b[0;34m)\u001b[0m\u001b[0;34m.\u001b[0m\u001b[0mrun_line_magic\u001b[0m\u001b[0;34m(\u001b[0m\u001b[0;34m'matplotlib'\u001b[0m\u001b[0;34m,\u001b[0m \u001b[0;34m'inline'\u001b[0m\u001b[0;34m)\u001b[0m\u001b[0;34m\u001b[0m\u001b[0;34m\u001b[0m\u001b[0m\n\u001b[1;32m      2\u001b[0m \u001b[0mfig\u001b[0m\u001b[0;34m=\u001b[0m\u001b[0mplt\u001b[0m\u001b[0;34m.\u001b[0m\u001b[0mfigure\u001b[0m\u001b[0;34m(\u001b[0m\u001b[0mfigsize\u001b[0m\u001b[0;34m=\u001b[0m\u001b[0;34m(\u001b[0m\u001b[0;36m12\u001b[0m\u001b[0;34m,\u001b[0m\u001b[0;36m9\u001b[0m\u001b[0;34m)\u001b[0m\u001b[0;34m)\u001b[0m\u001b[0;34m\u001b[0m\u001b[0;34m\u001b[0m\u001b[0m\n\u001b[0;32m----> 3\u001b[0;31m \u001b[0mplot_model\u001b[0m\u001b[0;34m(\u001b[0m\u001b[0mmcmc_d\u001b[0m\u001b[0;34m,\u001b[0m\u001b[0mbfm_d\u001b[0m\u001b[0;34m.\u001b[0m\u001b[0mfit_Model\u001b[0m\u001b[0;34m,\u001b[0m\u001b[0mdata\u001b[0m\u001b[0;34m,\u001b[0m\u001b[0;36m35\u001b[0m\u001b[0;34m,\u001b[0m\u001b[0;36m55\u001b[0m\u001b[0;34m,\u001b[0m\u001b[0mlabel\u001b[0m\u001b[0;34m=\u001b[0m\u001b[0mname\u001b[0m\u001b[0;34m,\u001b[0m\u001b[0msize\u001b[0m\u001b[0;34m=\u001b[0m\u001b[0;36m500\u001b[0m\u001b[0;34m)\u001b[0m\u001b[0;34m\u001b[0m\u001b[0;34m\u001b[0m\u001b[0m\n\u001b[0m\u001b[1;32m      4\u001b[0m \u001b[0mplt\u001b[0m\u001b[0;34m.\u001b[0m\u001b[0mtight_layout\u001b[0m\u001b[0;34m(\u001b[0m\u001b[0;34m)\u001b[0m\u001b[0;34m\u001b[0m\u001b[0;34m\u001b[0m\u001b[0m\n",
      "\u001b[0;32m<ipython-input-7-ff693c43d265>\u001b[0m in \u001b[0;36mplot_model\u001b[0;34m(mcmc, model, data, nu_1, nu_2, size, labels, label)\u001b[0m\n\u001b[1;32m     19\u001b[0m \u001b[0;34m\u001b[0m\u001b[0m\n\u001b[1;32m     20\u001b[0m     \u001b[0mmcmc\u001b[0m\u001b[0;34m.\u001b[0m\u001b[0mreset_to_best_fit\u001b[0m\u001b[0;34m(\u001b[0m\u001b[0;34m)\u001b[0m\u001b[0;34m\u001b[0m\u001b[0;34m\u001b[0m\u001b[0m\n\u001b[0;32m---> 21\u001b[0;31m     \u001b[0my_bf\u001b[0m\u001b[0;34m=\u001b[0m\u001b[0mbfm\u001b[0m\u001b[0;34m.\u001b[0m\u001b[0mfit_Model\u001b[0m\u001b[0;34m.\u001b[0m\u001b[0meval\u001b[0m\u001b[0;34m(\u001b[0m\u001b[0mnu\u001b[0m\u001b[0;34m,\u001b[0m\u001b[0mget_model\u001b[0m\u001b[0;34m=\u001b[0m\u001b[0;32mTrue\u001b[0m\u001b[0;34m)\u001b[0m\u001b[0;34m\u001b[0m\u001b[0;34m\u001b[0m\u001b[0m\n\u001b[0m\u001b[1;32m     22\u001b[0m \u001b[0;34m\u001b[0m\u001b[0m\n\u001b[1;32m     23\u001b[0m     \u001b[0mplt\u001b[0m\u001b[0;34m.\u001b[0m\u001b[0mplot\u001b[0m\u001b[0;34m(\u001b[0m\u001b[0mnu\u001b[0m\u001b[0;34m,\u001b[0m\u001b[0my_bf\u001b[0m\u001b[0;34m,\u001b[0m\u001b[0mlabel\u001b[0m\u001b[0;34m=\u001b[0m \u001b[0mlabel\u001b[0m\u001b[0;34m+\u001b[0m\u001b[0;34m': Predicted, log10(R0)/tau=%3.3f'\u001b[0m\u001b[0;34m%\u001b[0m\u001b[0mp\u001b[0m\u001b[0;34m)\u001b[0m\u001b[0;34m\u001b[0m\u001b[0;34m\u001b[0m\u001b[0m\n",
      "\u001b[0;31mNameError\u001b[0m: name 'bfm' is not defined"
     ]
    },
    {
     "data": {
      "image/png": "[encoded data removed]",
      "text/plain": [
       "<Figure size 864x648 with 1 Axes>"
      ]
     },
     "metadata": {
      "needs_background": "light"
     },
     "output_type": "display_data"
    }
   ],
   "source": [
    "%matplotlib inline\n",
    "fig=plt.figure(figsize=(12,9))\n",
    "plot_model(mcmc_d,bfm_d.fit_Model,data,35,55,label=name,size=500)\n",
    "plt.tight_layout()"
   ]
  },
  {
   "cell_type": "code",
   "execution_count": null,
   "metadata": {},
   "outputs": [],
   "source": [
    "fig=plt.figure(figsize=(12,8))\n",
    "f=mcmc_d.corner_plot()"
   ]
  },
  {
   "cell_type": "code",
   "execution_count": null,
   "metadata": {
    "scrolled": false
   },
   "outputs": [],
   "source": [
    "name='Confirmed'\n",
    "data=get_data(name)\n",
    "gm_c=GrowthModel()\n",
    "gm_c.nu_min=0\n",
    "gm_c.nu_max=100\n",
    "fm_c=FitModel(analytical=gm_c,name='test')\n",
    "bfm_c,mm_c=fit_SED(fm,data,nu_fit_start=35,nu_fit_stop=50,minimizer='minuit',silent=True)\n",
    "print(np.log10(gm_c.parameters.R0.val)/gm_c.parameters.tau.val)\n",
    "\n",
    "bfm_c.fit_Model.show_best_fit_pars()\n",
    "\n",
    "mcmc_c=McmcSampler(bfm_c.fit_Model,bfm_c.data)\n",
    "mcmc_c.run_sampler(nwalkers=150,burnin=10,steps=500,bound=3,bound_rel=True,walker_start_bound=0.001,threads=1)"
   ]
  },
  {
   "cell_type": "code",
   "execution_count": null,
   "metadata": {},
   "outputs": [],
   "source": [
    "%matplotlib inline\n",
    "fig=plt.figure(figsize=(12,9))\n",
    "plot_model(mcmc_c,bfm_c.fit_Model,data,30,55,label=name,size=500)\n",
    "plt.tight_layout()"
   ]
  },
  {
   "cell_type": "code",
   "execution_count": null,
   "metadata": {
    "scrolled": false
   },
   "outputs": [],
   "source": [
    "fig=plt.figure(figsize=(12,8))\n",
    "f=mcmc_c.corner_plot()"
   ]
  },
  {
   "cell_type": "code",
   "execution_count": null,
   "metadata": {},
   "outputs": [],
   "source": []
  },
  {
   "cell_type": "code",
   "execution_count": null,
   "metadata": {},
   "outputs": [],
   "source": []
  }
 ],
 "metadata": {
  "kernelspec": {
   "display_name": "Python 3",
   "language": "python",
   "name": "python3"
  },
  "language_info": {
   "codemirror_mode": {
    "name": "ipython",
    "version": 3
   },
   "file_extension": ".py",
   "mimetype": "text/x-python",
   "name": "python",
   "nbconvert_exporter": "python",
   "pygments_lexer": "ipython3",
   "version": "3.7.6"
  }
 },
 "nbformat": 4,
 "nbformat_minor": 4
}
