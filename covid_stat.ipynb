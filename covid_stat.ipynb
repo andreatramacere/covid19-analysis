{
 "cells": [
  {
   "cell_type": "code",
   "execution_count": 25,
   "metadata": {},
   "outputs": [
    {
     "data": {
      "text/html": [
       "<style>.container { width:95% !important; }</style>"
      ],
      "text/plain": [
       "<IPython.core.display.HTML object>"
      ]
     },
     "metadata": {},
     "output_type": "display_data"
    }
   ],
   "source": [
    "from IPython.core.display import display, HTML\n",
    "display(HTML(\"<style>.container { width:95% !important; }</style>\"))\n",
    "import warnings\n",
    "warnings.filterwarnings('ignore')"
   ]
  },
  {
   "cell_type": "code",
   "execution_count": 112,
   "metadata": {},
   "outputs": [],
   "source": [
    "from astropy.table import Table\n",
    "from astropy.time import Time\n",
    "import numpy as np\n",
    "import matplotlib.style\n",
    "import matplotlib as mpl\n",
    "#mpl.style.use('classic')\n",
    "\n",
    "import matplotlib.pyplot as plt\n",
    "import pandas as pd\n",
    "#plt.rcParams['figure.figsize'] = [15, 15]\n",
    "#size=18\n",
    "#params = {'legend.fontsize': size,\n",
    "#          'figure.figsize': (20,8),\n",
    "#          'axes.labelsize': size,\n",
    "#          'axes.titlesize': size,\n",
    "#          'xtick.labelsize': size*0.75,\n",
    "#          'ytick.labelsize': size*0.75,\n",
    "#          'axes.titlepad': 25}\n",
    "#plt.rcParams.update(params)\n",
    "\n",
    "plt.rcParams['figure.figsize'] = [12., 12.0]\n",
    "plt.rcParams['figure.dpi'] = 80\n",
    "plt.rcParams['savefig.dpi'] = 100\n",
    "\n",
    "plt.rcParams['font.size'] = '24'\n",
    "plt.rcParams['legend.fontsize'] = 'large'\n",
    "plt.rcParams['figure.titlesize'] = 'medium'"
   ]
  },
  {
   "cell_type": "code",
   "execution_count": 113,
   "metadata": {},
   "outputs": [],
   "source": [
    "from jetset.model_parameters import ModelParameterArray, ModelParameter\n",
    "from jetset.analytical_model import AnalyticalParameter\n",
    "from jetset.base_model import Model\n",
    "from jetset.model_manager import FitModel\n",
    "from jetset.minimizer import fit_SED"
   ]
  },
  {
   "cell_type": "code",
   "execution_count": 114,
   "metadata": {},
   "outputs": [],
   "source": [
    "class GrowthModel(Model):\n",
    "    \"\"\"\n",
    "    Class to handle function for growth model\n",
    "    \"\"\"\n",
    "    \n",
    "    def __init__(self,nu_size=100,**keywords):\n",
    "        \"\"\"\n",
    "        \"\"\"\n",
    "     \n",
    "        super(GrowthModel,self).__init__(  **keywords)\n",
    "        self.name='GrowthModel'\n",
    "        self.parameters = ModelParameterArray()      \n",
    "        self.eta=1\n",
    "        self.parameters.add_par(AnalyticalParameter(self,name='eta',par_type='',val=1,val_min=0,val_max=10000,units=''))        \n",
    "        self.R0=1\n",
    "        self.parameters.add_par(AnalyticalParameter(self,name='R0',par_type='',val=3,val_min=0.,val_max=10.,units=''))       \n",
    "        self.tau=1\n",
    "        self.parameters.add_par(AnalyticalParameter(self,name='tau',par_type='',val=1,val_min=0.,val_max=10.,units=''))\n",
    "        self.t_0=1\n",
    "        self.parameters.add_par(AnalyticalParameter(self,name='t_0',par_type='',val=0,val_min=-10.,val_max=100.,units=''))\n",
    "    \n",
    "    def set(self,**keywords):\n",
    "        super(GrowthMode,self).set(**keywords )\n",
    "\n",
    "        \"\"\"\n",
    "        sets a parameter value checking for physical boundaries \n",
    "        \"\"\"\n",
    "        if 'val' in keywords.keys():\n",
    "            self.assign_val(self.name,keywords['val']) \n",
    "\n",
    "    def assign_val(self,name,val):\n",
    "        setattr(self.polymodel,name,val)\n",
    "    \n",
    "    #def lin_func(self,nu):        \n",
    "    #    return -np.log10(self.eta) +(np.log10(self.R0)/self.tau)*(nu-self.eta)\n",
    "    \n",
    "    def lin_func(self,nu):\n",
    "        return (1.0/self.eta)*np.power(self.R0,((nu-self.t_0)/self.tau))\n",
    "    "
   ]
  },
  {
   "cell_type": "code",
   "execution_count": 115,
   "metadata": {},
   "outputs": [],
   "source": [
    "class Data(object):\n",
    "    \n",
    "    def __init__(self,data,time):\n",
    "        self.data=data\n",
    "        self.time=time.date"
   ]
  },
  {
   "cell_type": "code",
   "execution_count": 116,
   "metadata": {},
   "outputs": [],
   "source": [
    "def get_data(name='Confirmed',country='Italy',fake_error=False):\n",
    "    \"\"\"\n",
    "    name= Confirmed, Deaths, Recovered\n",
    "    \"\"\"\n",
    "    table=Table.read('COVID-19/csse_covid_19_data/csse_covid_19_time_series/time_series_19-covid-%s.csv'%name)\n",
    "    ts=table[table['Country/Region']==country]\n",
    "    df=ts.to_pandas()\n",
    "    y=df.values\n",
    "    y=y.flatten()[4:].astype(np.int)\n",
    "    t=df.columns[4:]\n",
    "    msk=y>-1\n",
    "    \n",
    "    time=np.arange(1,len(t)+1)\n",
    "    msk=time>20\n",
    "    t=t[msk]\n",
    "    if fake_error is False:\n",
    "        y_err= np.sqrt(y[msk])\n",
    "    else:\n",
    "        y_err= np.ones(y[msk].size)*0.0001\n",
    "        \n",
    "    data_table=Table([time[msk], y[msk], y_err, np.zeros(len(y[msk]),dtype=np.bool )],names=['nu_data','nuFnu_data','dnuFnu_data','UL'])\n",
    "    data=Data(data_table,pd.to_datetime(t,format='%m/%d/%y'))\n",
    "    return data"
   ]
  },
  {
   "cell_type": "code",
   "execution_count": 117,
   "metadata": {},
   "outputs": [],
   "source": [
    "def plot_model(mcmc,model,data,t_start_model=None, t_stop_model=None, size=10, labels=None,label=''):\n",
    "    \n",
    "    if t_start_model is None:\n",
    "        t_start_model = model.nu_min_fit\n",
    "    \n",
    "    if t_stop_model is None:\n",
    "        t_stop_model = model.nu_max_fit\n",
    "        \n",
    "    nu=np.linspace(t_start_model,t_stop_model,100)\n",
    "\n",
    "    mcmc.reset_to_best_fit()\n",
    "    p=np.log10(model.GrowthModel.parameters.R0.best_fit_val)/model.GrowthModel.parameters.tau.val\n",
    "    y = np.zeros((size,nu.size))\n",
    "\n",
    "    for ID,ID_rand in enumerate(np.random.randint(len(mcmc.samples), size=size)):\n",
    "        for ID_par,pi in  enumerate(mcmc.par_array):\n",
    "            pi.set(val = mcmc.get_par(ID_par)[0][ID_rand])\n",
    "  \n",
    "        y[ID] = model.eval(nu,get_model=True)\n",
    "    \n",
    "    #print(ID)\n",
    "    y_min=np.amin(y, axis=0)\n",
    "    y_max=np.amax(y, axis=0)\n",
    "    plt.fill_between(nu,y_max,y_min,color='gray',alpha=0.3)\n",
    "    \n",
    "    mcmc.reset_to_best_fit()\n",
    "    y_bf=model.eval(nu,get_model=True)\n",
    "    \n",
    "    plt.plot(nu,y_bf,label= label+': Predicted, log10(R0)/tau=%3.3f'%p)\n",
    "    \n",
    "    plt.errorbar(data.data['nu_data'],data.data['nuFnu_data'],yerr=data.data['dnuFnu_data'],fmt='o',label = label+': Observed')\n",
    "    \n",
    "    plt.axvline(model.nu_min_fit,alpha=0.5)\n",
    "    plt.axvline(model.nu_max_fit,alpha=0.5)\n",
    "    \n",
    "    \n",
    "    locs, labels = plt.xticks()\n",
    "    delta_t=data.time +pd.Timedelta(days=30)\n",
    "    t=np.append(data.time,delta_t)\n",
    "    delta_x=np.arange(1,31)+data.data['nu_data'][-1]\n",
    "    x=np.append(data.data['nu_data'],delta_x)\n",
    "    plt.xticks(x, t, rotation='vertical') \n",
    "    plt.xlabel('date')\n",
    "    plt.ylabel('Counts')\n",
    "    plt.semilogy()\n",
    "    plt.legend(loc='center left', bbox_to_anchor=(1.0, 0.5), ncol=1)\n",
    "    mcmc.reset_to_best_fit()\n",
    "    #plt.suptitle('data from https://github.com/CSSEGISandData/COVID-19')"
   ]
  },
  {
   "cell_type": "code",
   "execution_count": 118,
   "metadata": {},
   "outputs": [],
   "source": [
    "from jetset.minimizer import fit_SED\n",
    "from jetset.mcmc import McmcSampler\n"
   ]
  },
  {
   "cell_type": "code",
   "execution_count": 131,
   "metadata": {
    "scrolled": false
   },
   "outputs": [],
   "source": [
    "def do_analysis(t_start,t_stop,name,country='Italy',do_plot=True):\n",
    "\n",
    "    data=get_data(name,country,fake_error=False)\n",
    "    gm=GrowthModel()\n",
    "    gm.nu_min=0\n",
    "    gm.nu_max=100\n",
    "    #gm.parameters.eta.val=1.0\n",
    "    #gm.parameters.eta.frooze=True\n",
    "    fm=FitModel(analytical=gm,name='test')\n",
    "    bfm,mm=fit_SED(fm,data,nu_fit_start=t_start,nu_fit_stop=t_stop,minimizer='minuit',silent=True)\n",
    "    log_R0_by_tau=np.log10(gm.parameters.R0.val)/gm.parameters.tau.val\n",
    "    print('log10(R0)/tau',log_R0_by_tau)\n",
    "    print('doubling time',np.log10(2)/log_R0_by_tau)\n",
    "\n",
    "    bfm.fit_Model.show_best_fit_pars()\n",
    "     \n",
    "    mcmc=McmcSampler(bfm)\n",
    "    mcmc.run_sampler(nwalkers=150,burnin=10,steps=500,bound=3,bound_rel=True,walker_start_bound=0.001,threads=1)\n",
    "        \n",
    "    if do_plot is True:\n",
    "        %matplotlib inline\n",
    "        fig=plt.figure(figsize=(12,6))\n",
    "        plot_model(mcmc,bfm.fit_Model,data,t_start_model=t_start,t_stop_model= t_stop +5,label=name,size=500)\n",
    "        plt.tight_layout()\n",
    "        plt.title('input data from https://github.com/CSSEGISandData/COVID-19')\n",
    "        \n",
    "        \n",
    "        f=mcmc.corner_plot(quantiles=(0.16,0.5,0.84))\n",
    "        \n",
    "        fig=plt.figure(figsize=(12,6))\n",
    "        nu=data.data['nu_data']\n",
    "        plt.semilogy(np.gradient(bfm.fit_Model.eval(nu,get_model=True)),label='model')\n",
    "        plt.semilogy(np.gradient(data.data['nuFnu_data']),'o',label='data')\n",
    "        plt.xlabel('Time')\n",
    "        plt.ylabel('derivative')\n",
    "        plt.legend()\n",
    "    return bfm,mcmc"
   ]
  },
  {
   "cell_type": "code",
   "execution_count": null,
   "metadata": {
    "scrolled": false
   },
   "outputs": [
    {
     "name": "stderr",
     "output_type": "stream",
     "text": [
      "  1%|          | 5/500 [00:00<00:09, 49.61it/s]"
     ]
    },
    {
     "name": "stdout",
     "output_type": "stream",
     "text": [
      "\r",
      "| minim function calls=670, chisq=9.109373 UL part=-0.000000\r",
      "log10(R0)/tau 0.13651419897156716\n",
      "doubling time 2.205118573245842\n",
      " model name name bestfit val     err +     err -  start val   fit range min fit range max frozen\n",
      "----------- ---- ------------ ------------ ----- ------------ ------------- ------------- ------\n",
      "GrowthModel  eta 1.441737e+01 2.647408e+01    -- 1.000000e+00  0.000000e+00  1.000000e+04  False\n",
      "GrowthModel   R0 1.596901e+00 1.047706e+00    -- 3.000000e+00  0.000000e+00  1.000000e+01  False\n",
      "GrowthModel  tau 1.489061e+00 1.978264e+00    -- 1.000000e+00  0.000000e+00  1.000000e+01  False\n",
      "GrowthModel  t_0 1.986993e+01 5.907420e+00    -- 0.000000e+00 -1.000000e+01  1.000000e+02  False\n",
      "mcmc run starting\n"
     ]
    },
    {
     "name": "stderr",
     "output_type": "stream",
     "text": [
      "100%|██████████| 500/500 [00:08<00:00, 56.81it/s]\n"
     ]
    },
    {
     "name": "stdout",
     "output_type": "stream",
     "text": [
      "mcmc run done, with 1 threads took 8.83 seconds\n"
     ]
    },
    {
     "data": {
      "image/png": "[encoded data removed]",
      "text/plain": [
       "<Figure size 864x432 with 1 Axes>"
      ]
     },
     "metadata": {
      "needs_background": "light"
     },
     "output_type": "display_data"
    }
   ],
   "source": [
    "bfm,mcmc=do_analysis(t_start=30,t_stop=46.5,name='Deaths')"
   ]
  }
 ],
 "metadata": {
  "kernelspec": {
   "display_name": "Python 3",
   "language": "python",
   "name": "python3"
  },
  "language_info": {
   "codemirror_mode": {
    "name": "ipython",
    "version": 3
   },
   "file_extension": ".py",
   "mimetype": "text/x-python",
   "name": "python",
   "nbconvert_exporter": "python",
   "pygments_lexer": "ipython3",
   "version": "3.7.6"
  }
 },
 "nbformat": 4,
 "nbformat_minor": 4
}
